{
 "cells": [
  {
   "cell_type": "code",
   "execution_count": null,
   "metadata": {},
   "outputs": [],
   "source": [
    "import random\n",
    "import numpy as np\n",
    "import pandas as pd\n",
    "\n",
    "with open(\"names.txt\",encoding=\"utf-8\") as file:\n",
    "    content = file.read()\n",
    "\n",
    "names_list = content.split()\n",
    "names = random.choices(names_list,k=50)\n",
    "\n",
    "with open(\"names.txt\",encoding=\"utf-8\") as file:\n",
    "    content = file.read()\n",
    "    \n",
    "scores = np.random.randint(50,101,size=(50,5))\n",
    "student_df = pd.DataFrame(scores,\n",
    "             columns=['國文','英文','數學','地理','歷史'],\n",
    "             index=names)\n",
    "student_df"
   ]
  },
  {
   "cell_type": "code",
   "execution_count": null,
   "metadata": {},
   "outputs": [],
   "source": [
    "from pandas import Series,DataFrame\n",
    "def fun3(s:Series):\n",
    "    sum=s.sum()\n",
    "    mean=s.mean()\n",
    "    count=s[s<60].count()\n",
    "    Values=s[s<60].index.values\n",
    "\n",
    "    return Series([sum,mean,count,Values],index=['總分','平均','不及格數','不及格科目']) \n",
    "student_df.apply(fun3,axis=1)"
   ]
  }
 ],
 "metadata": {
  "kernelspec": {
   "display_name": "base",
   "language": "python",
   "name": "python3"
  },
  "language_info": {
   "codemirror_mode": {
    "name": "ipython",
    "version": 3
   },
   "file_extension": ".py",
   "mimetype": "text/x-python",
   "name": "python",
   "nbconvert_exporter": "python",
   "pygments_lexer": "ipython3",
   "version": "3.12.3"
  }
 },
 "nbformat": 4,
 "nbformat_minor": 2
}
