{
 "cells": [
  {
   "cell_type": "code",
   "execution_count": 9,
   "metadata": {},
   "outputs": [],
   "source": [
    "import os\n",
    "current_path = os.path.dirname(os.path.abspath(__name__))\n",
    "folder_path = os.path.join(current_path,'每日各站進出站人數')\n",
    "fileName_list = []\n",
    "for filename in os.listdir(folder_path):\n",
    "    if '每日各站進出站人數' in filename:\n",
    "        fileName_list.append(os.path.join(folder_path,filename))\n"
   ]
  },
  {
   "cell_type": "code",
   "execution_count": null,
   "metadata": {},
   "outputs": [],
   "source": [
    "import pandas as pd\n",
    "import json\n",
    "from pprint import pprint\n",
    "#車站名稱\n",
    "stations_path = os.path.join(folder_path,'車站基本資料集.json')\n",
    "with open(stations_path,encoding='utf-8') as file:\n",
    "    station_content = json.load(file)\n",
    "\n",
    "stations_df = pd.DataFrame(station_content)\n",
    "stations_df\n"
   ]
  }
 ],
 "metadata": {
  "kernelspec": {
   "display_name": "base",
   "language": "python",
   "name": "python3"
  },
  "language_info": {
   "codemirror_mode": {
    "name": "ipython",
    "version": 3
   },
   "file_extension": ".py",
   "mimetype": "text/x-python",
   "name": "python",
   "nbconvert_exporter": "python",
   "pygments_lexer": "ipython3",
   "version": "3.12.3"
  }
 },
 "nbformat": 4,
 "nbformat_minor": 2
}
