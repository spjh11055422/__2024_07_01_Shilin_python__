{
 "cells": [
  {
   "cell_type": "code",
   "execution_count": 12,
   "metadata": {},
   "outputs": [],
   "source": [
    "import numpy as np \n",
    "student=np.random.randint(50,101,size=(50,5))"
   ]
  },
  {
   "cell_type": "code",
   "execution_count": 19,
   "metadata": {},
   "outputs": [
    {
     "name": "stdout",
     "output_type": "stream",
     "text": [
      "3705\n"
     ]
    }
   ],
   "source": [
    "print(student[:,0].sum())"
   ]
  },
  {
   "cell_type": "code",
   "execution_count": null,
   "metadata": {},
   "outputs": [],
   "source": [
    "print(student[0].sum())\n",
    "print(student[0].mean())\n",
    "print(student[0].max())\n",
    "print(student[0].min())\n",
    "print(student[0].std())"
   ]
  },
  {
   "cell_type": "code",
   "execution_count": 24,
   "metadata": {},
   "outputs": [
    {
     "data": {
      "text/plain": [
       "array([[ 69,  99,  97,  64,  92],\n",
       "       [ 82,  97,  70,  73,  89],\n",
       "       [ 62,  90,  79,  75,  82],\n",
       "       [ 56,  60,  53,  64,  57],\n",
       "       [ 94,  89,  51,  73,  59],\n",
       "       [ 52,  70,  50,  79,  73],\n",
       "       [ 77,  86,  67,  68,  60],\n",
       "       [ 61,  59,  90,  81,  81],\n",
       "       [ 77,  78,  72,  85,  87],\n",
       "       [ 99,  53,  59,  78,  84],\n",
       "       [ 70,  96,  74,  58,  69],\n",
       "       [ 62,  98,  72,  93,  51],\n",
       "       [ 79,  85,  88,  75,  96],\n",
       "       [ 84, 100,  99,  86,  89],\n",
       "       [ 59,  65,  52,  84,  78],\n",
       "       [ 50,  61,  59,  99,  55],\n",
       "       [ 88,  83,  50,  60,  54],\n",
       "       [ 63,  62,  88,  53,  68],\n",
       "       [ 81,  76,  96,  96,  52],\n",
       "       [ 95,  50,  51,  64,  55],\n",
       "       [ 98, 100,  90,  69,  82],\n",
       "       [ 93,  99,  75,  80,  94],\n",
       "       [ 85,  55,  70,  80,  62],\n",
       "       [ 84,  52,  65,  56,  77],\n",
       "       [ 67,  84,  75,  77,  62],\n",
       "       [ 50,  89,  63,  77,  65],\n",
       "       [ 51,  82,  54,  67,  79],\n",
       "       [ 62,  96,  75,  64,  60],\n",
       "       [ 51,  60,  89,  61,  84],\n",
       "       [ 88,  92,  79,  79,  82],\n",
       "       [ 78,  54,  80,  52,  97],\n",
       "       [ 89,  97,  76,  87,  77],\n",
       "       [ 74,  53,  60,  63,  83],\n",
       "       [100,  55,  86,  72,  81],\n",
       "       [ 91,  90,  71,  60,  97],\n",
       "       [ 86,  97,  85,  93,  82],\n",
       "       [ 71,  91,  96,  87,  81],\n",
       "       [ 51,  89,  50,  76,  60],\n",
       "       [ 66,  74,  65,  78,  56],\n",
       "       [ 53,  83,  92,  50,  98],\n",
       "       [ 62,  77,  54,  64,  89],\n",
       "       [ 68,  73,  61,  89,  82],\n",
       "       [ 87,  92,  88,  57,  74],\n",
       "       [ 99,  69,  96,  74,  92],\n",
       "       [ 73,  51,  69,  74,  87],\n",
       "       [ 75,  90,  74,  84,  63],\n",
       "       [ 67,  87,  63,  50,  81],\n",
       "       [ 68,  73,  61,  73,  82],\n",
       "       [ 91,  97,  60,  79,  88],\n",
       "       [ 67,  99,  98,  96,  69]], dtype=int32)"
      ]
     },
     "metadata": {},
     "output_type": "display_data"
    },
    {
     "data": {
      "text/plain": [
       "array([84.2, 82.2, 77.6, 58. , 73.2, 64.8, 71.6, 74.4, 79.8, 74.6, 73.4,\n",
       "       75.2, 84.6, 91.6, 67.6, 64.8, 67. , 66.8, 80.2, 63. , 87.8, 88.2,\n",
       "       70.4, 66.8, 73. , 68.8, 66.6, 71.4, 69. , 84. , 72.2, 85.2, 66.6,\n",
       "       78.8, 81.8, 88.6, 85.2, 65.2, 67.8, 75.2, 69.2, 74.6, 79.6, 86. ,\n",
       "       70.8, 77.2, 69.6, 71.4, 83. , 85.8])"
      ]
     },
     "execution_count": 24,
     "metadata": {},
     "output_type": "execute_result"
    }
   ],
   "source": [
    "display(student)\n",
    "np.mean(student,axis=1)"
   ]
  }
 ],
 "metadata": {
  "kernelspec": {
   "display_name": "base",
   "language": "python",
   "name": "python3"
  },
  "language_info": {
   "codemirror_mode": {
    "name": "ipython",
    "version": 3
   },
   "file_extension": ".py",
   "mimetype": "text/x-python",
   "name": "python",
   "nbconvert_exporter": "python",
   "pygments_lexer": "ipython3",
   "version": "3.12.3"
  }
 },
 "nbformat": 4,
 "nbformat_minor": 2
}
