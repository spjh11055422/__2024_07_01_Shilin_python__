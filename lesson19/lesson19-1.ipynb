{
 "cells": [
  {
   "cell_type": "code",
   "execution_count": 9,
   "metadata": {},
   "outputs": [],
   "source": [
    "import os\n",
    "def get_path() -> list[str]:\n",
    "    current_path = os.path.dirname(os.path.abspath(__name__))\n",
    "    folder_path = os.path.join(current_path,'每日各站進出站人數')\n",
    "    fileName_list = []\n",
    "    for filename in os.listdir(folder_path):\n",
    "        if '每日各站進出站人數' in filename:\n",
    "            fileName_list.append(os.path.join(folder_path,filename))\n",
    "    return fileName_list"
   ]
  },
  {
   "cell_type": "code",
   "execution_count": 10,
   "metadata": {},
   "outputs": [],
   "source": [
    "from pandas import DataFrame\n",
    "\n",
    "def station_info() -> DataFrame:\n",
    "    import os,json\n",
    "    import pandas as pd\n",
    "    current_path = os.path.dirname(os.path.abspath(__name__))\n",
    "    folder_path = os.path.join(current_path,'每日各站進出站人數')\n",
    "    stations_path = os.path.join(folder_path,'車站基本資料集.json')\n",
    "    with open(stations_path,encoding='utf-8') as file:\n",
    "        station_content = json.load(file)\n",
    "\n",
    "    stations_df = pd.DataFrame(station_content)\n",
    "\n",
    "\n",
    "    stations_df['stationCode'] = stations_df['stationCode'].astype(int)\n",
    "    return stations_df "
   ]
  },
  {
   "cell_type": "code",
   "execution_count": 12,
   "metadata": {},
   "outputs": [],
   "source": [
    "def merge_dataFrame(names:list[str], station:DataFrame) -> list[DataFrame]:\n",
    "    import pandas as pd\n",
    "    all_frames = []\n",
    "    for name in names:\n",
    "        inOut_df = pd.read_csv(name)\n",
    "        df1 = pd.merge(inOut_df,station,left_on='staCode',right_on='stationCode')\n",
    "        df2 = df1.reindex(columns=['trnOpDate','stationName','gateInComingCnt','gateOutGoingCnt'])\n",
    "        df3 = df2.rename(columns={'trnOpDate':'日期',\n",
    "                    'stationName':'站名',\n",
    "                    'gateInComingCnt':'進站',\n",
    "                    'gateOutGoingCnt':'出站'\n",
    "                    })\n",
    "        df3['日期'] = pd.to_datetime(df3['日期'].astype(str))\n",
    "        all_frames.append(df3)\n",
    "    return all_frames"
   ]
  },
  {
   "cell_type": "code",
   "execution_count": null,
   "metadata": {},
   "outputs": [],
   "source": [
    "fileName_list = get_path()\n",
    "stations_df = station_info()\n",
    "all_in_out = merge_dataFrame(fileName_list, stations_df)\n",
    "all_in_out"
   ]
  }
 ],
 "metadata": {
  "kernelspec": {
   "display_name": "base",
   "language": "python",
   "name": "python3"
  },
  "language_info": {
   "codemirror_mode": {
    "name": "ipython",
    "version": 3
   },
   "file_extension": ".py",
   "mimetype": "text/x-python",
   "name": "python",
   "nbconvert_exporter": "python",
   "pygments_lexer": "ipython3",
   "version": "3.12.3"
  }
 },
 "nbformat": 4,
 "nbformat_minor": 2
}
