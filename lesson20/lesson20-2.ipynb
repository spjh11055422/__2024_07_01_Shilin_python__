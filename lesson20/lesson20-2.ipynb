{
 "cells": [
  {
   "cell_type": "code",
   "execution_count": null,
   "metadata": {},
   "outputs": [],
   "source": [
    "from tools import get_path,station_info,merge_dataFrame\n",
    "import pandas as pd\n",
    "\n",
    "fileName_list = get_path()\n",
    "stations_df = station_info()\n",
    "all_in_out = merge_dataFrame(fileName_list, stations_df)\n",
    "station_in_out= pd.concat(all_in_out)\n",
    "station_in_out"
   ]
  },
  {
   "cell_type": "code",
   "execution_count": null,
   "metadata": {},
   "outputs": [],
   "source": [
    "station_in_out.info()"
   ]
  },
  {
   "cell_type": "code",
   "execution_count": null,
   "metadata": {},
   "outputs": [],
   "source": [
    "station_in_out1=station_in_out.sort_values(by='日期')\n",
    "station_in_out1"
   ]
  },
  {
   "cell_type": "code",
   "execution_count": 6,
   "metadata": {},
   "outputs": [
    {
     "data": {
      "text/plain": [
       "<pandas.core.groupby.generic.DataFrameGroupBy object at 0x0000026527613890>"
      ]
     },
     "execution_count": 6,
     "metadata": {},
     "output_type": "execute_result"
    }
   ],
   "source": [
    "groupe=station_in_out1.groupby('站名')[['進站','出站']]\n",
    "groupe"
   ]
  },
  {
   "cell_type": "code",
   "execution_count": null,
   "metadata": {},
   "outputs": [],
   "source": [
    "groupe.min()"
   ]
  },
  {
   "cell_type": "code",
   "execution_count": 10,
   "metadata": {},
   "outputs": [
    {
     "data": {
      "text/html": [
       "<div>\n",
       "<style scoped>\n",
       "    .dataframe tbody tr th:only-of-type {\n",
       "        vertical-align: middle;\n",
       "    }\n",
       "\n",
       "    .dataframe tbody tr th {\n",
       "        vertical-align: top;\n",
       "    }\n",
       "\n",
       "    .dataframe thead tr th {\n",
       "        text-align: left;\n",
       "    }\n",
       "\n",
       "    .dataframe thead tr:last-of-type th {\n",
       "        text-align: right;\n",
       "    }\n",
       "</style>\n",
       "<table border=\"1\" class=\"dataframe\">\n",
       "  <thead>\n",
       "    <tr>\n",
       "      <th></th>\n",
       "      <th colspan=\"3\" halign=\"left\">進站</th>\n",
       "      <th colspan=\"3\" halign=\"left\">出站</th>\n",
       "    </tr>\n",
       "    <tr>\n",
       "      <th></th>\n",
       "      <th>最少人數</th>\n",
       "      <th>最多人數</th>\n",
       "      <th>中間人數</th>\n",
       "      <th>最少人數</th>\n",
       "      <th>最多人數</th>\n",
       "      <th>中間人數</th>\n",
       "    </tr>\n",
       "    <tr>\n",
       "      <th>站名</th>\n",
       "      <th></th>\n",
       "      <th></th>\n",
       "      <th></th>\n",
       "      <th></th>\n",
       "      <th></th>\n",
       "      <th></th>\n",
       "    </tr>\n",
       "  </thead>\n",
       "  <tbody>\n",
       "    <tr>\n",
       "      <th>七堵</th>\n",
       "      <td>141</td>\n",
       "      <td>7704</td>\n",
       "      <td>5706.0</td>\n",
       "      <td>210</td>\n",
       "      <td>8288</td>\n",
       "      <td>5745.0</td>\n",
       "    </tr>\n",
       "    <tr>\n",
       "      <th>三坑</th>\n",
       "      <td>34</td>\n",
       "      <td>1715</td>\n",
       "      <td>1298.0</td>\n",
       "      <td>31</td>\n",
       "      <td>1835</td>\n",
       "      <td>1333.5</td>\n",
       "    </tr>\n",
       "    <tr>\n",
       "      <th>三塊厝</th>\n",
       "      <td>16</td>\n",
       "      <td>933</td>\n",
       "      <td>464.0</td>\n",
       "      <td>15</td>\n",
       "      <td>1013</td>\n",
       "      <td>488.5</td>\n",
       "    </tr>\n",
       "    <tr>\n",
       "      <th>三姓橋</th>\n",
       "      <td>3</td>\n",
       "      <td>2125</td>\n",
       "      <td>1043.0</td>\n",
       "      <td>16</td>\n",
       "      <td>1603</td>\n",
       "      <td>980.5</td>\n",
       "    </tr>\n",
       "    <tr>\n",
       "      <th>三民</th>\n",
       "      <td>0</td>\n",
       "      <td>52</td>\n",
       "      <td>6.0</td>\n",
       "      <td>0</td>\n",
       "      <td>57</td>\n",
       "      <td>10.0</td>\n",
       "    </tr>\n",
       "    <tr>\n",
       "      <th>...</th>\n",
       "      <td>...</td>\n",
       "      <td>...</td>\n",
       "      <td>...</td>\n",
       "      <td>...</td>\n",
       "      <td>...</td>\n",
       "      <td>...</td>\n",
       "    </tr>\n",
       "    <tr>\n",
       "      <th>鼓山</th>\n",
       "      <td>9</td>\n",
       "      <td>2352</td>\n",
       "      <td>231.5</td>\n",
       "      <td>16</td>\n",
       "      <td>1055</td>\n",
       "      <td>240.0</td>\n",
       "    </tr>\n",
       "    <tr>\n",
       "      <th>龍井</th>\n",
       "      <td>36</td>\n",
       "      <td>2131</td>\n",
       "      <td>331.0</td>\n",
       "      <td>35</td>\n",
       "      <td>5506</td>\n",
       "      <td>318.0</td>\n",
       "    </tr>\n",
       "    <tr>\n",
       "      <th>龍泉</th>\n",
       "      <td>0</td>\n",
       "      <td>103</td>\n",
       "      <td>12.0</td>\n",
       "      <td>1</td>\n",
       "      <td>390</td>\n",
       "      <td>14.0</td>\n",
       "    </tr>\n",
       "    <tr>\n",
       "      <th>龍港</th>\n",
       "      <td>2</td>\n",
       "      <td>106</td>\n",
       "      <td>16.0</td>\n",
       "      <td>2</td>\n",
       "      <td>130</td>\n",
       "      <td>21.0</td>\n",
       "    </tr>\n",
       "    <tr>\n",
       "      <th>龜山</th>\n",
       "      <td>3</td>\n",
       "      <td>389</td>\n",
       "      <td>79.0</td>\n",
       "      <td>0</td>\n",
       "      <td>287</td>\n",
       "      <td>76.0</td>\n",
       "    </tr>\n",
       "  </tbody>\n",
       "</table>\n",
       "<p>241 rows × 6 columns</p>\n",
       "</div>"
      ],
      "text/plain": [
       "      進站                 出站              \n",
       "    最少人數  最多人數    中間人數 最少人數  最多人數    中間人數\n",
       "站名                                       \n",
       "七堵   141  7704  5706.0  210  8288  5745.0\n",
       "三坑    34  1715  1298.0   31  1835  1333.5\n",
       "三塊厝   16   933   464.0   15  1013   488.5\n",
       "三姓橋    3  2125  1043.0   16  1603   980.5\n",
       "三民     0    52     6.0    0    57    10.0\n",
       "..   ...   ...     ...  ...   ...     ...\n",
       "鼓山     9  2352   231.5   16  1055   240.0\n",
       "龍井    36  2131   331.0   35  5506   318.0\n",
       "龍泉     0   103    12.0    1   390    14.0\n",
       "龍港     2   106    16.0    2   130    21.0\n",
       "龜山     3   389    79.0    0   287    76.0\n",
       "\n",
       "[241 rows x 6 columns]"
      ]
     },
     "execution_count": 10,
     "metadata": {},
     "output_type": "execute_result"
    }
   ],
   "source": [
    "df1=groupe.aggregate([('最少人數','min'),('最多人數','max'),('中間人數','median')])\n",
    "df1"
   ]
  },
  {
   "cell_type": "code",
   "execution_count": 14,
   "metadata": {},
   "outputs": [
    {
     "name": "stderr",
     "output_type": "stream",
     "text": [
      "C:\\Users\\Administrator\\AppData\\Local\\Temp\\ipykernel_5636\\4000159751.py:1: FutureWarning: The previous implementation of stack is deprecated and will be removed in a future version of pandas. See the What's New notes for pandas 2.1.0 for details. Specify future_stack=True to adopt the new implementation and silence this warning.\n",
      "  series1=df1.stack(level=[0,1])\n"
     ]
    },
    {
     "data": {
      "text/plain": [
       "站名  進出  統計  \n",
       "七堵  出站  最少人數     210.0\n",
       "        最多人數    8288.0\n",
       "        中間人數    5745.0\n",
       "    進站  最少人數     141.0\n",
       "        最多人數    7704.0\n",
       "                 ...  \n",
       "龜山  出站  最多人數     287.0\n",
       "        中間人數      76.0\n",
       "    進站  最少人數       3.0\n",
       "        最多人數     389.0\n",
       "        中間人數      79.0\n",
       "Length: 1446, dtype: float64"
      ]
     },
     "execution_count": 14,
     "metadata": {},
     "output_type": "execute_result"
    }
   ],
   "source": [
    "series1=df1.stack(level=[0,1])\n",
    "series1.index.names=['站名','進出','統計']\n",
    "series1\n"
   ]
  },
  {
   "cell_type": "code",
   "execution_count": null,
   "metadata": {},
   "outputs": [],
   "source": [
    "df2=series1.unstack(level=['站名'])\n",
    "df2"
   ]
  }
 ],
 "metadata": {
  "kernelspec": {
   "display_name": "base",
   "language": "python",
   "name": "python3"
  },
  "language_info": {
   "codemirror_mode": {
    "name": "ipython",
    "version": 3
   },
   "file_extension": ".py",
   "mimetype": "text/x-python",
   "name": "python",
   "nbconvert_exporter": "python",
   "pygments_lexer": "ipython3",
   "version": "3.12.3"
  }
 },
 "nbformat": 4,
 "nbformat_minor": 2
}
